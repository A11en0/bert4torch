{
 "cells": [
  {
   "cell_type": "code",
   "execution_count": null,
   "metadata": {},
   "outputs": [],
   "source": [
    "datadir = 'E:/Github/Sohu2022/Sohu2022_data/nlp_data'\n",
    "\n",
    "with open(datadir + '/train.txt', encoding='utf-8') as f:\n",
    "    data = f.readlines()\n",
    "\n",
    "split_index = int(len(data)*0.9)\n",
    "with open(datadir + '/train_90.txt', 'w', encoding='utf-8') as f:\n",
    "    f.writelines(data[:split_index])\n",
    "with open(datadir + '/dev_10.txt', 'w', encoding='utf-8') as f:\n",
    "    f.writelines(data[split_index:])"
   ]
  },
  {
   "cell_type": "code",
   "execution_count": null,
   "metadata": {},
   "outputs": [],
   "source": [
    "import json\n",
    "from bert4torch.snippets import text_segmentate\n",
    "from bert4torch.tokenizers import Tokenizer\n",
    "\n",
    "dict_path = 'F:/Projects/pretrain_ckpt/robert/[hit_torch_base]--chinese-roberta-wwm-ext-base/vocab.txt'\n",
    "tokenizer = Tokenizer(dict_path, do_lower_case=True)\n",
    "maxlen = 512\n",
    "\n",
    "def load_data(filename):\n",
    "    D = []\n",
    "    seps, strips = u'\\n。！？!?；;，, ', u'；;，, '\n",
    "    with open(filename, encoding='utf-8') as f:\n",
    "        for l in f:\n",
    "            taskData = json.loads(l.strip())\n",
    "            tokens_2 = [tokenizer.tokenize(ent)[1:-1] + ['[MASK]'] for ent in taskData['entity'].keys()]\n",
    "            tokens_2 = [j for i in tokens_2 for j in i] + ['[SEP]']\n",
    "            # 按照最长长度和标点符号切分\n",
    "            for t in text_segmentate(taskData['content'], maxlen-len(tokens_2)-2, seps, strips):\n",
    "                D.append(t)\n",
    "    return D\n",
    "D = load_data(datadir + '/train_90.txt')\n",
    "print(len(D))"
   ]
  }
 ],
 "metadata": {
  "kernelspec": {
   "display_name": "Python 3.8.8 ('base')",
   "language": "python",
   "name": "python3"
  },
  "language_info": {
   "codemirror_mode": {
    "name": "ipython",
    "version": 3
   },
   "file_extension": ".py",
   "mimetype": "text/x-python",
   "name": "python",
   "nbconvert_exporter": "python",
   "pygments_lexer": "ipython3",
   "version": "3.8.8"
  },
  "orig_nbformat": 4,
  "vscode": {
   "interpreter": {
    "hash": "e42634819b8c191a5d07eaf23810ff32516dd8d3875f28ec3e488928fbd3c187"
   }
  }
 },
 "nbformat": 4,
 "nbformat_minor": 2
}
