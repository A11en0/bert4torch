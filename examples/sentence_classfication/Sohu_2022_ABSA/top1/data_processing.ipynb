{
 "cells": [
  {
   "cell_type": "code",
   "execution_count": null,
   "metadata": {},
   "outputs": [],
   "source": [
    "datadir = 'E:/Github/Sohu2022/Sohu2022_data/nlp_data'\n",
    "\n",
    "with open(datadir + '/train.txt', encoding='utf-8') as f:\n",
    "    data = f.readlines()\n",
    "\n",
    "split_index = int(len(data)*0.9)\n",
    "with open(datadir + '/train_90.txt', 'w', encoding='utf-8') as f:\n",
    "    f.writelines(data[:split_index])\n",
    "with open(datadir + '/dev_10.txt', 'w', encoding='utf-8') as f:\n",
    "    f.writelines(data[split_index:])"
   ]
  }
 ],
 "metadata": {
  "kernelspec": {
   "display_name": "Python 3.8.8 ('base')",
   "language": "python",
   "name": "python3"
  },
  "language_info": {
   "codemirror_mode": {
    "name": "ipython",
    "version": 3
   },
   "file_extension": ".py",
   "mimetype": "text/x-python",
   "name": "python",
   "nbconvert_exporter": "python",
   "pygments_lexer": "ipython3",
   "version": "3.8.8"
  },
  "orig_nbformat": 4,
  "vscode": {
   "interpreter": {
    "hash": "e42634819b8c191a5d07eaf23810ff32516dd8d3875f28ec3e488928fbd3c187"
   }
  }
 },
 "nbformat": 4,
 "nbformat_minor": 2
}
