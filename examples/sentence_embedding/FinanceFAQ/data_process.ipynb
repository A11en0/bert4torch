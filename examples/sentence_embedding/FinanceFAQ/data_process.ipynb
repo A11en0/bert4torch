{
 "cells": [
  {
   "cell_type": "markdown",
   "metadata": {},
   "source": [
    "### 阶段一数据集"
   ]
  },
  {
   "cell_type": "code",
   "execution_count": 5,
   "metadata": {},
   "outputs": [
    {
     "data": {
      "text/html": [
       "<div>\n",
       "<style scoped>\n",
       "    .dataframe tbody tr th:only-of-type {\n",
       "        vertical-align: middle;\n",
       "    }\n",
       "\n",
       "    .dataframe tbody tr th {\n",
       "        vertical-align: top;\n",
       "    }\n",
       "\n",
       "    .dataframe thead th {\n",
       "        text-align: right;\n",
       "    }\n",
       "</style>\n",
       "<table border=\"1\" class=\"dataframe\">\n",
       "  <thead>\n",
       "    <tr style=\"text-align: right;\">\n",
       "      <th></th>\n",
       "      <th>q_std</th>\n",
       "      <th>q_sim</th>\n",
       "    </tr>\n",
       "  </thead>\n",
       "  <tbody>\n",
       "    <tr>\n",
       "      <th>49995</th>\n",
       "      <td>评级家数小于#数字实体#家的#概念名称#基金有哪些</td>\n",
       "      <td>请把评级家数低于50家的HIT电池基金的清单给我念一下</td>\n",
       "    </tr>\n",
       "    <tr>\n",
       "      <th>49996</th>\n",
       "      <td>两融帐户首次激活后没有额度的原因</td>\n",
       "      <td>两融开户后没有授信额度</td>\n",
       "    </tr>\n",
       "    <tr>\n",
       "      <th>49997</th>\n",
       "      <td>国债逆回购是否计算持仓市值</td>\n",
       "      <td>听说国债逆回购是需要计算持仓市值的，这是真的吗</td>\n",
       "    </tr>\n",
       "    <tr>\n",
       "      <th>49998</th>\n",
       "      <td>系统维护期间是否可以正常委托</td>\n",
       "      <td>系统维护中可不可以开户吗</td>\n",
       "    </tr>\n",
       "    <tr>\n",
       "      <th>49999</th>\n",
       "      <td>人工服务电话和时间</td>\n",
       "      <td>客服电话来一个</td>\n",
       "    </tr>\n",
       "  </tbody>\n",
       "</table>\n",
       "</div>"
      ],
      "text/plain": [
       "                           q_std                        q_sim\n",
       "49995  评级家数小于#数字实体#家的#概念名称#基金有哪些  请把评级家数低于50家的HIT电池基金的清单给我念一下\n",
       "49996           两融帐户首次激活后没有额度的原因                  两融开户后没有授信额度\n",
       "49997              国债逆回购是否计算持仓市值      听说国债逆回购是需要计算持仓市值的，这是真的吗\n",
       "49998             系统维护期间是否可以正常委托                 系统维护中可不可以开户吗\n",
       "49999                  人工服务电话和时间                      客服电话来一个"
      ]
     },
     "execution_count": 5,
     "metadata": {},
     "output_type": "execute_result"
    }
   ],
   "source": [
    "import pandas as pd\n",
    "import numpy as np\n",
    "q_std_map = pd.read_csv('F:/Projects/data/corpus/qa/FinanceFAQ/input/q_std.tsv', sep='\\t', encoding='utf-8')['0'].to_dict()\n",
    "query_pair = pd.read_csv('F:/Projects/data/corpus/qa/FinanceFAQ/input/query_pair_0.tsv', sep='\\t', encoding='utf-8')\n",
    "query_pair['q_std'] = query_pair['q_std'].map(q_std_map)\n",
    "query_pair.to_csv('F:/Projects/data/corpus/qa/FinanceFAQ/FinanceFAQ_train.tsv', sep='\\t', encoding='utf-8', index=False)\n",
    "query_pair.tail()"
   ]
  },
  {
   "cell_type": "code",
   "execution_count": 6,
   "metadata": {},
   "outputs": [
    {
     "data": {
      "text/plain": [
       "count    50000.000000\n",
       "mean        18.549940\n",
       "std          7.961594\n",
       "min          1.000000\n",
       "25%         13.000000\n",
       "50%         18.000000\n",
       "75%         23.000000\n",
       "max        108.000000\n",
       "Name: q_sim, dtype: float64"
      ]
     },
     "execution_count": 6,
     "metadata": {},
     "output_type": "execute_result"
    }
   ],
   "source": [
    "query_pair.q_sim.str.len().describe()"
   ]
  },
  {
   "cell_type": "code",
   "execution_count": 9,
   "metadata": {},
   "outputs": [
    {
     "data": {
      "text/html": [
       "<div>\n",
       "<style scoped>\n",
       "    .dataframe tbody tr th:only-of-type {\n",
       "        vertical-align: middle;\n",
       "    }\n",
       "\n",
       "    .dataframe tbody tr th {\n",
       "        vertical-align: top;\n",
       "    }\n",
       "\n",
       "    .dataframe thead th {\n",
       "        text-align: right;\n",
       "    }\n",
       "</style>\n",
       "<table border=\"1\" class=\"dataframe\">\n",
       "  <thead>\n",
       "    <tr style=\"text-align: right;\">\n",
       "      <th></th>\n",
       "      <th>q_std</th>\n",
       "      <th>q_sim</th>\n",
       "    </tr>\n",
       "  </thead>\n",
       "  <tbody>\n",
       "    <tr>\n",
       "      <th>11</th>\n",
       "      <td>合约未了结情况下，卖出担保品时，提示零股不支持交易的解决方式</td>\n",
       "      <td>合约未了结情况下，卖出担保品时，解决提醒零股不能买卖的方式可能是什么</td>\n",
       "    </tr>\n",
       "    <tr>\n",
       "      <th>15</th>\n",
       "      <td>任职基金数大于#数字实体#的基金经理有哪些</td>\n",
       "      <td>想知道任职基金数大于50的基金经理有哪些</td>\n",
       "    </tr>\n",
       "    <tr>\n",
       "      <th>25</th>\n",
       "      <td>退市整理股票是否支持市价委托</td>\n",
       "      <td>问一下退市整理股票是否能做市价委托</td>\n",
       "    </tr>\n",
       "    <tr>\n",
       "      <th>31</th>\n",
       "      <td>竞价涨幅不小于#数字实体#的#地域板块#股票有哪些</td>\n",
       "      <td>给我发下都有啥内蒙板块股票是竞价涨幅不少于50</td>\n",
       "    </tr>\n",
       "    <tr>\n",
       "      <th>32</th>\n",
       "      <td>负债及持有人权益合计大于#数字实体#元的#概念名称#基金有哪些</td>\n",
       "      <td>都有什么中药基金是负债及持有人权益合计大于10元</td>\n",
       "    </tr>\n",
       "  </tbody>\n",
       "</table>\n",
       "</div>"
      ],
      "text/plain": [
       "                              q_std                               q_sim\n",
       "11   合约未了结情况下，卖出担保品时，提示零股不支持交易的解决方式  合约未了结情况下，卖出担保品时，解决提醒零股不能买卖的方式可能是什么\n",
       "15            任职基金数大于#数字实体#的基金经理有哪些                想知道任职基金数大于50的基金经理有哪些\n",
       "25                   退市整理股票是否支持市价委托                   问一下退市整理股票是否能做市价委托\n",
       "31        竞价涨幅不小于#数字实体#的#地域板块#股票有哪些             给我发下都有啥内蒙板块股票是竞价涨幅不少于50\n",
       "32  负债及持有人权益合计大于#数字实体#元的#概念名称#基金有哪些            都有什么中药基金是负债及持有人权益合计大于10元"
      ]
     },
     "execution_count": 9,
     "metadata": {},
     "output_type": "execute_result"
    }
   ],
   "source": [
    "# 为每个q_std随机选择一个q_sim作为dev集\n",
    "q_std_list = query_pair['q_std'].unique().tolist()\n",
    "query_pair['test_rnd'] = query_pair.q_std.apply(lambda x: np.random.rand())\n",
    "query_pair['nrank_test'] = query_pair.groupby('q_std')['test_rnd'].rank(ascending=0, method='first')\n",
    "dev_query_pair =  query_pair[query_pair.nrank_test<=1][['q_std', 'q_sim']]\n",
    "dev_query_pair.head(5)"
   ]
  },
  {
   "cell_type": "code",
   "execution_count": 10,
   "metadata": {},
   "outputs": [],
   "source": [
    "# 为所有的query配一个qid\n",
    "q_std_dev = dev_query_pair.q_std.unique().tolist()\n",
    "q_sim_dev = dev_query_pair.q_sim.unique().tolist()\n",
    "q_qid = q_std_dev + q_sim_dev\n",
    "q_qid = list(set(q_qid))\n",
    "q_qid_dict = {i+1:q_qid[i] for i in range(0, len(q_qid))}  # {id: query}\n",
    "q_qid_dict_inv = {v: k for k, v in q_qid_dict.items()}  # {query: id}\n",
    "\n",
    "# 建立ir_corpus： [q_id, q_std]的映射\n",
    "ir_corpus = {q_qid_dict_inv[v]: v for v in q_std_list if v not in q_sim_dev}\n",
    "ir_corpus_df = pd.DataFrame(list(ir_corpus.items()), columns=['qid', 'question']).sort_values('qid').reset_index(drop=True)\n",
    "ir_corpus_df.to_csv('F:/Projects/data/corpus/qa/FinanceFAQ/ir_corpus.tsv', sep='\\t', index=False)\n",
    "\n",
    "# 保存dev\n",
    "dev_query_pair['qid'] = dev_query_pair.q_sim.map(q_qid_dict_inv)\n",
    "dev_query_pair['duplicate_qids'] = dev_query_pair.q_std.map(q_qid_dict_inv)\n",
    "dev_query_pair.duplicate_qids = dev_query_pair.duplicate_qids.astype('str')\n",
    "dev_query_pair = dev_query_pair.groupby(['q_sim', 'qid']).apply(lambda v: ','.join(v['duplicate_qids'])).reset_index(name='duplicate_qids')[['qid', 'q_sim', 'duplicate_qids']]\n",
    "dev_query_pair.to_csv('F:/Projects/data/corpus/qa/FinanceFAQ/FinanceFAQ_dev.tsv', sep='\\t', index=False)"
   ]
  },
  {
   "cell_type": "markdown",
   "metadata": {},
   "source": [
    "### 阶段二数据集"
   ]
  },
  {
   "cell_type": "code",
   "execution_count": null,
   "metadata": {},
   "outputs": [],
   "source": []
  }
 ],
 "metadata": {
  "kernelspec": {
   "display_name": "Python 3.8.8 ('base')",
   "language": "python",
   "name": "python3"
  },
  "language_info": {
   "codemirror_mode": {
    "name": "ipython",
    "version": 3
   },
   "file_extension": ".py",
   "mimetype": "text/x-python",
   "name": "python",
   "nbconvert_exporter": "python",
   "pygments_lexer": "ipython3",
   "version": "3.8.8"
  },
  "orig_nbformat": 4,
  "vscode": {
   "interpreter": {
    "hash": "e42634819b8c191a5d07eaf23810ff32516dd8d3875f28ec3e488928fbd3c187"
   }
  }
 },
 "nbformat": 4,
 "nbformat_minor": 2
}
